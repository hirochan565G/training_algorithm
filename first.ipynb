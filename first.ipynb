{
  "nbformat": 4,
  "nbformat_minor": 0,
  "metadata": {
    "colab": {
      "name": "first.ipynb",
      "provenance": [],
      "collapsed_sections": [],
      "mount_file_id": "1lvYro3LYpbw_XVO_v2zUF04pzj_g_1S5",
      "authorship_tag": "ABX9TyN797RPkOZ0Jmpg1nnOkoO6",
      "include_colab_link": true
    },
    "kernelspec": {
      "name": "python3",
      "display_name": "Python 3"
    }
  },
  "cells": [
    {
      "cell_type": "markdown",
      "metadata": {
        "id": "view-in-github",
        "colab_type": "text"
      },
      "source": [
        "<a href=\"https://colab.research.google.com/github/hirochan565G/training_algorithm/blob/main/first.ipynb\" target=\"_parent\"><img src=\"https://colab.research.google.com/assets/colab-badge.svg\" alt=\"Open In Colab\"/></a>"
      ]
    },
    {
      "cell_type": "code",
      "metadata": {
        "colab": {
          "base_uri": "https://localhost:8080/"
        },
        "id": "K9zuyQ77cckD",
        "outputId": "4008509a-b470-491a-c23a-f238cf7b0158"
      },
      "source": [
        "print('hello mygit')"
      ],
      "execution_count": 6,
      "outputs": [
        {
          "output_type": "stream",
          "text": [
            "hello mygit\n"
          ],
          "name": "stdout"
        }
      ]
    },
    {
      "cell_type": "code",
      "metadata": {
        "colab": {
          "base_uri": "https://localhost:8080/"
        },
        "id": "dhA0n3c4cPQ1",
        "outputId": "15e43521-8c40-4d8f-ed40-e0fd932810df"
      },
      "source": [
        "# calculate charge\n",
        "insert_price = input('insert:')\n",
        "product_price = input('product:')\n",
        "# int()で文字から整数に変換（キャスト）\n",
        "change = int(insert_price) - int(product_price)\n",
        "print(change)\n",
        "\n",
        "# 5000円札の枚数を求める\n",
        "r5000 = change // 5000 # 商\n",
        "remainder_5000 = change % 5000 # 余り\n",
        "print(f'5000:{r5000}')\n",
        "\n",
        "# 1000円札の枚数を求める\n",
        "r1000 = remainder_5000 // 1000\n",
        "remainder_1000 = remainder_5000 % 1000\n",
        "print(f'1000:{r1000}')\n",
        "\n",
        "# 500円玉の枚数を求める\n",
        "r500 = remainder_1000 // 500\n",
        "remainder_500 = remainder_1000 % 500\n",
        "print(f'500:{r500}')\n",
        "\n",
        "# 100円玉の枚数を求める\n",
        "r100 = remainder_500 // 100\n",
        "remainder_100 = remainder_500 % 100\n",
        "print(f'100:{r100}')\n",
        "\n",
        "# 50円玉の枚数を求める\n",
        "r50 = remainder_100 // 50\n",
        "remainder_50 = remainder_100 % 50\n",
        "print(f'50:{r50}')\n",
        "\n",
        "# 10円玉の枚数を求める\n",
        "r10 = remainder_50 // 10\n",
        "remainder_10 = remainder_50 % 10\n",
        "print(f'10:{r10}')\n",
        "\n",
        "# 5円玉の枚数を求める\n",
        "r5 = remainder_10 // 5\n",
        "remainder_5 = remainder_10 % 5\n",
        "print(f'5:{r5}')\n",
        "\n",
        "# 1円玉の枚数を表示\n",
        "print(f'1:{remainder_5}')"
      ],
      "execution_count": 11,
      "outputs": [
        {
          "output_type": "stream",
          "text": [
            "insert:10000\n",
            "product:2362\n",
            "7638\n",
            "5000:1\n",
            "1000:2\n",
            "500:1\n",
            "100:1\n",
            "50:0\n",
            "10:3\n",
            "5:1\n",
            "1:3\n"
          ],
          "name": "stdout"
        }
      ]
    },
    {
      "cell_type": "code",
      "metadata": {
        "colab": {
          "base_uri": "https://localhost:8080/"
        },
        "id": "Y3gqq8VAfO2c",
        "outputId": "fa5d81cf-7040-443b-aad2-26ba0111637c"
      },
      "source": [
        "print(7638 // 5000)"
      ],
      "execution_count": 8,
      "outputs": [
        {
          "output_type": "stream",
          "text": [
            "1\n"
          ],
          "name": "stdout"
        }
      ]
    },
    {
      "cell_type": "code",
      "metadata": {
        "colab": {
          "base_uri": "https://localhost:8080/"
        },
        "id": "wiUVbSqWf8pa",
        "outputId": "190a90fa-676b-458d-f4eb-7b3bdfc52f5a"
      },
      "source": [
        "print(7638 % 5000)"
      ],
      "execution_count": 9,
      "outputs": [
        {
          "output_type": "stream",
          "text": [
            "2638\n"
          ],
          "name": "stdout"
        }
      ]
    },
    {
      "cell_type": "code",
      "metadata": {
        "colab": {
          "base_uri": "https://localhost:8080/"
        },
        "id": "UKJIygLkgDiq",
        "outputId": "78a7afc2-0a17-49b4-f0ad-7b99efb34aa0"
      },
      "source": [
        "import sys\n",
        "\n",
        "\n",
        "input_price = input('insert:')\n",
        "if not input_price.isdecimal():\n",
        "  print('整数を入力してください')\n",
        "  sys.exit() # エラーは強制終了\n",
        "\n",
        "product_price = input('product:')\n",
        "if not product_price.isdecimal():\n",
        "  print('整数を入力してください')\n",
        "  sys.exit()\n",
        "\n",
        "change = int(input_price) - int(product_price)\n",
        "\n",
        "# 金額が足りない場合\n",
        "if change < 0:\n",
        "  print('金額が不足しています')\n",
        "  sys.exit()\n",
        "\n",
        "# おつりの計算\n",
        "coin = [5000, 1000, 500, 100, 50, 10, 5, 1]\n",
        "\n",
        "for i in coin:\n",
        "  r = change // i\n",
        "  change %= i # 演算結果はchangeがもつ\n",
        "  print(str(i) + ':' + str(r))"
      ],
      "execution_count": 17,
      "outputs": [
        {
          "output_type": "stream",
          "text": [
            "insert:10000\n",
            "product:5467\n",
            "5000:0\n",
            "1000:4\n",
            "500:1\n",
            "100:0\n",
            "50:0\n",
            "10:3\n",
            "5:0\n",
            "1:3\n"
          ],
          "name": "stdout"
        }
      ]
    },
    {
      "cell_type": "code",
      "metadata": {
        "id": "p244QR7Fnqnp"
      },
      "source": [
        ""
      ],
      "execution_count": 17,
      "outputs": []
    }
  ]
}