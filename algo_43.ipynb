{
  "nbformat": 4,
  "nbformat_minor": 0,
  "metadata": {
    "colab": {
      "name": "algo_43.ipynb",
      "provenance": [],
      "collapsed_sections": [],
      "mount_file_id": "1I-0NGWCGqRFW_3fMr4xY7XDTXkriFHfc",
      "authorship_tag": "ABX9TyPT9ZyJ6ty4isuZTJr5kArz",
      "include_colab_link": true
    },
    "kernelspec": {
      "name": "python3",
      "display_name": "Python 3"
    }
  },
  "cells": [
    {
      "cell_type": "markdown",
      "metadata": {
        "id": "view-in-github",
        "colab_type": "text"
      },
      "source": [
        "<a href=\"https://colab.research.google.com/github/hirochan565G/training_algorithm/blob/main/algo_43.ipynb\" target=\"_parent\"><img src=\"https://colab.research.google.com/assets/colab-badge.svg\" alt=\"Open In Colab\"/></a>"
      ]
    },
    {
      "cell_type": "code",
      "metadata": {
        "id": "gW7uC7Q8obhW",
        "colab": {
          "base_uri": "https://localhost:8080/"
        },
        "outputId": "b8fe5f18-d692-454a-ccc5-49bebda49e2d"
      },
      "source": [
        "# ノードはリストの要素と対応する\n",
        "#  0番目にはノード１，２があるのでこれのインデックスを\n",
        "# リストとして保持する\n",
        "\n",
        "# 幅優先探索\n",
        "# 最短でたどり着ける一つの要素を探すのに向いている\n",
        "tree = [[1, 2], [3, 4], [5, 6], [7, 8], [9, 10],\n",
        "        [11, 12], [13, 14], [], [], [], [], [], [], [], [], []]\n",
        "\n",
        "data = [0] #　探索する初期位置\n",
        "\n",
        "while len(data) > 0:\n",
        "  positon = data.pop(0) # 先頭から要素を取り出していく\n",
        "  print(positon, end = ' ')\n",
        "\n",
        "  for i in tree[positon]:\n",
        "    data.append(i)\n",
        "\n",
        "\n"
      ],
      "execution_count": 16,
      "outputs": [
        {
          "output_type": "stream",
          "text": [
            "0 1 2 3 4 5 6 7 8 9 10 11 12 13 14 "
          ],
          "name": "stdout"
        }
      ]
    },
    {
      "cell_type": "code",
      "metadata": {
        "colab": {
          "base_uri": "https://localhost:8080/"
        },
        "id": "CE1iwpqswlX2",
        "outputId": "b7628c85-fe3d-4dc0-ddc9-3835054fdf32"
      },
      "source": [
        "# 深さ優先探索\n",
        "# 行きがけ順(一般的)\n",
        "# メモリの消費が抑えられるのが共通点\n",
        "\n",
        "def search(pos):\n",
        "  print(pos, end=' ')\n",
        "  for i in tree[pos]: # 配下のノードを調べる\n",
        "    search(i) # 再帰的に探索\n",
        "    \n",
        "\n",
        "search(0)"
      ],
      "execution_count": 21,
      "outputs": [
        {
          "output_type": "stream",
          "text": [
            "0 1 3 7 8 4 9 10 2 5 11 12 6 13 14 "
          ],
          "name": "stdout"
        }
      ]
    },
    {
      "cell_type": "code",
      "metadata": {
        "colab": {
          "base_uri": "https://localhost:8080/"
        },
        "id": "OuAGPRBEFGw9",
        "outputId": "1b946881-994b-4763-90bb-d1bb576f0c7d"
      },
      "source": [
        "# 帰りがけ順\n",
        "\n",
        "def search_back(pos):\n",
        "  for i in tree[pos]:\n",
        "    # print(f'\\n今のインデックス: {i}\\n')\n",
        "    search_back(i)\n",
        "  print(pos, end=',')\n",
        "\n",
        "search_back(0)"
      ],
      "execution_count": 43,
      "outputs": [
        {
          "output_type": "stream",
          "text": [
            "7,8,3,9,10,4,1,11,12,5,13,14,6,2,0,"
          ],
          "name": "stdout"
        }
      ]
    },
    {
      "cell_type": "code",
      "metadata": {
        "colab": {
          "base_uri": "https://localhost:8080/"
        },
        "id": "hDOS7XndGiuu",
        "outputId": "88aff5ac-d7cf-4cb8-e79d-a197a1e0ec71"
      },
      "source": [
        "for i in tree[0]:\n",
        "  print(i)\n",
        "  #print(type(i))"
      ],
      "execution_count": 41,
      "outputs": [
        {
          "output_type": "stream",
          "text": [
            "1\n",
            "2\n"
          ],
          "name": "stdout"
        }
      ]
    },
    {
      "cell_type": "code",
      "metadata": {
        "id": "oUDrqUmvHP2I"
      },
      "source": [
        ""
      ],
      "execution_count": null,
      "outputs": []
    }
  ]
}