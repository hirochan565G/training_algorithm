{
  "nbformat": 4,
  "nbformat_minor": 0,
  "metadata": {
    "colab": {
      "name": "algo_42.ipynb",
      "provenance": [],
      "collapsed_sections": [],
      "mount_file_id": "1dP-EF5aCe6Y8YX-po6uDxOIevONdBLHa",
      "authorship_tag": "ABX9TyOJNK+FJUk5jas0l8lzS1mN",
      "include_colab_link": true
    },
    "kernelspec": {
      "name": "python3",
      "display_name": "Python 3"
    }
  },
  "cells": [
    {
      "cell_type": "markdown",
      "metadata": {
        "id": "view-in-github",
        "colab_type": "text"
      },
      "source": [
        "<a href=\"https://colab.research.google.com/github/hirochan565G/training_algorithm/blob/main/algo_42.ipynb\" target=\"_parent\"><img src=\"https://colab.research.google.com/assets/colab-badge.svg\" alt=\"Open In Colab\"/></a>"
      ]
    },
    {
      "cell_type": "code",
      "metadata": {
        "id": "fu5cVM3dDMmM",
        "colab": {
          "base_uri": "https://localhost:8080/"
        },
        "outputId": "3151f81e-46a8-4ab2-98d7-453fffa60f6b"
      },
      "source": [
        "# 2分探索\n",
        "# array likeならpandasなどにも使える\n",
        "# データが昇順か降順のような順列でなければ使えない\n",
        "\n",
        "def binary_search(data, value):\n",
        "  left = 0 # 探索する範囲の左端を設定（index=0）\n",
        "  right = len(data) - 1 # 探索する範囲の右端を設定（リストの要素が9個）\n",
        "  # len(data)は9を返すので、これをindexにするために-1する\n",
        "  while left <= right:\n",
        "    # 左端が右端より小さい限りループする\n",
        "    \n",
        "    # 探索する範囲の中央の値を取得\n",
        "    # 統計的な中央値とは異なる\n",
        "    # 0から９０までなら最初は４５が設定される\n",
        "    mid = (left + right) // 2\n",
        "\n",
        "    # 範囲の中央の値と目的の値valueが一致した場合はその位置を返す\n",
        "    if data[mid] == value:\n",
        "      return mid\n",
        "\n",
        "    # 範囲の中央の値より大きい場合は探索範囲の左端を\n",
        "    # 範囲の中央の値に設定し直す\n",
        "    elif data[mid] < value:\n",
        "      left = mid + 1\n",
        "\n",
        "    # 範囲の中央の値より小さい場合は探索範囲の右端を\n",
        "    # 範囲の中央の値に設定し直す\n",
        "    else:\n",
        "      right = mid - 1\n",
        "\n",
        "\n",
        "  # valueが探索範囲に存在しない場合は-1を返す\n",
        "  return -1\n",
        "\n",
        "\n",
        "\n",
        "data = [10, 20, 30, 40, 50, 60, 70, 80, 90]\n",
        "\n",
        "output = binary_search(data, 90)\n",
        "print(f'目的の値のindexは: {output}')\n",
        "print(type(output))"
      ],
      "execution_count": 3,
      "outputs": [
        {
          "output_type": "stream",
          "text": [
            "目的の値のindexは: 8\n",
            "<class 'int'>\n"
          ],
          "name": "stdout"
        }
      ]
    },
    {
      "cell_type": "code",
      "metadata": {
        "id": "ed_8vTqueElz"
      },
      "source": [
        ""
      ],
      "execution_count": null,
      "outputs": []
    }
  ]
}