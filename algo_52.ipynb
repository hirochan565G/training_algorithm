{
  "nbformat": 4,
  "nbformat_minor": 0,
  "metadata": {
    "colab": {
      "name": "algo_52.ipynb",
      "provenance": [],
      "collapsed_sections": [],
      "mount_file_id": "1LvxLDEysLAbQYfpptzl6aoliTKQ5TJBH",
      "authorship_tag": "ABX9TyNMxNZ1b5jlPh823kntt5/i",
      "include_colab_link": true
    },
    "kernelspec": {
      "name": "python3",
      "display_name": "Python 3"
    }
  },
  "cells": [
    {
      "cell_type": "markdown",
      "metadata": {
        "id": "view-in-github",
        "colab_type": "text"
      },
      "source": [
        "<a href=\"https://colab.research.google.com/github/hirochan565G/training_algorithm/blob/main/algo_52.ipynb\" target=\"_parent\"><img src=\"https://colab.research.google.com/assets/colab-badge.svg\" alt=\"Open In Colab\"/></a>"
      ]
    },
    {
      "cell_type": "code",
      "metadata": {
        "colab": {
          "base_uri": "https://localhost:8080/"
        },
        "id": "Y8Aoe2fcXfAz",
        "outputId": "293b7785-9205-4165-a91c-c4c5866f5c27"
      },
      "source": [
        "# 最小値を前に出すアルゴリズム\n",
        "\n",
        "data = [6, 15, 4, 2, 8, 5, 11, 9, 7, 13]\n",
        "\n",
        "min = 0 # 最小値の位置の初期値として先頭を設定\n",
        "for i in range(1, len(data)):\n",
        "  if data[min] > data[i]: #初期値data[0]=6よりdata[i番目]が小さいなら\n",
        "    min = i # 最小値を更新する\n",
        "\n",
        "print(min) # dataの最小値の2のインデックスの3がでる"
      ],
      "execution_count": 1,
      "outputs": [
        {
          "output_type": "stream",
          "text": [
            "3\n"
          ],
          "name": "stdout"
        }
      ]
    },
    {
      "cell_type": "code",
      "metadata": {
        "colab": {
          "base_uri": "https://localhost:8080/"
        },
        "id": "fTuzizQ3YA0D",
        "outputId": "e5a96ca7-4c2f-49ec-f977-541d037da615"
      },
      "source": [
        "# 最小値を更新して降順にする\n",
        "\n",
        "for i in range(len(data)):\n",
        "  min = i # 最小値の初期位置をセット\n",
        "  for j in range(i + 1, len(data)): \n",
        "    # 一番目以降のリストが初期の最小値より小さいなら\n",
        "    if data[min] > data[j]:\n",
        "      min = j # 最小値が更新されたらその位置をセット\n",
        "\n",
        "  \n",
        "  data[i], data[min] = data[min], data[i] #インデックスと値を入れ替える\n",
        "\n",
        "print(data)"
      ],
      "execution_count": 5,
      "outputs": [
        {
          "output_type": "stream",
          "text": [
            "2\n",
            "===========\n",
            "4\n",
            "===========\n",
            "5\n",
            "===========\n",
            "6\n",
            "===========\n",
            "7\n",
            "===========\n",
            "8\n",
            "===========\n",
            "9\n",
            "===========\n",
            "11\n",
            "===========\n",
            "13\n",
            "===========\n",
            "15\n",
            "===========\n",
            "[2, 4, 5, 6, 7, 8, 9, 11, 13, 15]\n"
          ],
          "name": "stdout"
        }
      ]
    },
    {
      "cell_type": "code",
      "metadata": {
        "id": "YAH35HbmXWyy"
      },
      "source": [
        ""
      ],
      "execution_count": null,
      "outputs": []
    }
  ]
}