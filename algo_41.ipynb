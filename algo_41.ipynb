{
  "nbformat": 4,
  "nbformat_minor": 0,
  "metadata": {
    "colab": {
      "name": "algo_41.ipynb",
      "provenance": [],
      "collapsed_sections": [],
      "mount_file_id": "1DbHTGQpACtdci1iHfhpRe4v_8DXC2xGX",
      "authorship_tag": "ABX9TyNzj4Q+xebYZ6FzUU97N99a",
      "include_colab_link": true
    },
    "kernelspec": {
      "name": "python3",
      "display_name": "Python 3"
    }
  },
  "cells": [
    {
      "cell_type": "markdown",
      "metadata": {
        "id": "view-in-github",
        "colab_type": "text"
      },
      "source": [
        "<a href=\"https://colab.research.google.com/github/hirochan565G/training_algorithm/blob/main/algo_41.ipynb\" target=\"_parent\"><img src=\"https://colab.research.google.com/assets/colab-badge.svg\" alt=\"Open In Colab\"/></a>"
      ]
    },
    {
      "cell_type": "code",
      "metadata": {
        "colab": {
          "base_uri": "https://localhost:8080/"
        },
        "id": "KR5vuFO2rXv4",
        "outputId": "4951b85d-1e9c-4f0d-e940-17af40e038a6"
      },
      "source": [
        "# リストの線形探索\n",
        "data = [50, 30, 90, 10, 20, 70, 60, 40, 80]\n",
        "\n",
        "found = False # 処理状況：初期値はFalse\n",
        "for i in range(len(data)): # dataの長さだけループする\n",
        "  if data[i] == 40:\n",
        "    print(i) # 見つかった位置（index）を表示\n",
        "    found = True # 処理状況をTrueに書き換えて40の発見を知らせる\n",
        "    break # ループを抜ける\n",
        "\n",
        "  if not found: # 見つからない場合\n",
        "    print('Not Found')"
      ],
      "execution_count": 3,
      "outputs": [
        {
          "output_type": "stream",
          "text": [
            "Not Found\n",
            "Not Found\n",
            "Not Found\n",
            "Not Found\n",
            "Not Found\n",
            "Not Found\n",
            "Not Found\n",
            "7\n"
          ],
          "name": "stdout"
        }
      ]
    },
    {
      "cell_type": "code",
      "metadata": {
        "colab": {
          "base_uri": "https://localhost:8080/"
        },
        "id": "jPcNQQ6NtDBi",
        "outputId": "d680d914-fc3b-4067-df54-4701b178d53f"
      },
      "source": [
        "# 関数定義による線形探索\n",
        "# この場合比較平均は(n + 1) / 2\n",
        "def linear_search(data, value):\n",
        "  for i in range(len(data)):\n",
        "    if data[i] == value:# if input value is found\n",
        "      return i # 見つかった位置のindexを返す\n",
        "\n",
        "    # 見つからない場合は-1を返す\n",
        "  return -1\n",
        "\n",
        "data = [50, 30, 90, 10, 20, 70, 60, 40, 80]\n",
        "\n",
        "print(linear_search(data, 40))"
      ],
      "execution_count": 8,
      "outputs": [
        {
          "output_type": "stream",
          "text": [
            "7\n"
          ],
          "name": "stdout"
        }
      ]
    },
    {
      "cell_type": "code",
      "metadata": {
        "id": "udkNQpqavPHD"
      },
      "source": [
        ""
      ],
      "execution_count": null,
      "outputs": []
    }
  ]
}