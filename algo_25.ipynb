{
  "nbformat": 4,
  "nbformat_minor": 0,
  "metadata": {
    "colab": {
      "name": "algo_25.ipynb",
      "provenance": [],
      "collapsed_sections": [],
      "mount_file_id": "13467-7JwL6x73YsvXD8keionjXp7dhIM",
      "authorship_tag": "ABX9TyP3Xy/OPhsdoUKiQ3yr4cgS",
      "include_colab_link": true
    },
    "kernelspec": {
      "name": "python3",
      "display_name": "Python 3"
    }
  },
  "cells": [
    {
      "cell_type": "markdown",
      "metadata": {
        "id": "view-in-github",
        "colab_type": "text"
      },
      "source": [
        "<a href=\"https://colab.research.google.com/github/hirochan565G/training_algorithm/blob/main/algo_25.ipynb\" target=\"_parent\"><img src=\"https://colab.research.google.com/assets/colab-badge.svg\" alt=\"Open In Colab\"/></a>"
      ]
    },
    {
      "cell_type": "code",
      "metadata": {
        "colab": {
          "base_uri": "https://localhost:8080/"
        },
        "id": "UmbmPxHmw3Vf",
        "outputId": "c7fd17aa-ca8f-4bba-ff7b-97b511b06cea"
      },
      "source": [
        "import math\n",
        "\n",
        "def is_prime(n):\n",
        "  # nが1以下である場合を避ける\n",
        "  if n <= 1:\n",
        "    return False\n",
        "  # pythonのループは最後の数を含めないので1を足して回してあげる\n",
        "  for i in range(2, int(math.sqrt(n)) + 1):  # intに渡して整数にするのを忘れない\n",
        "    # print(f'iは{i}')\n",
        "    if n % i == 0:\n",
        "      # これまでの数で割り切れるなら素数でない\n",
        "      return False\n",
        "  return True\n",
        "\n",
        "for i in range(200):\n",
        "  if is_prime(i):\n",
        "    # この関数がTrueを返すなら下が実行される\n",
        "    print(i,end=',')"
      ],
      "execution_count": 6,
      "outputs": [
        {
          "output_type": "stream",
          "text": [
            "2,3,5,7,11,13,17,19,23,29,31,37,41,43,47,53,59,61,67,71,73,79,83,89,97,101,103,107,109,113,127,131,137,139,149,151,157,163,167,173,179,181,191,193,197,199,"
          ],
          "name": "stdout"
        }
      ]
    },
    {
      "cell_type": "code",
      "metadata": {
        "colab": {
          "base_uri": "https://localhost:8080/"
        },
        "id": "ZlJSw0Qv0o9O",
        "outputId": "c9a547b1-3cac-4e2a-d377-79b98ece058e"
      },
      "source": [
        "# eratosthenes\n",
        "\n",
        "def get_prime(n):\n",
        "  if n <= 1:\n",
        "    return []\n",
        "\n",
        "  # 初期の素数のリスト\n",
        "  prime = [2]\n",
        "  limit = int(math.sqrt(n)) # 素数を探すには目的の数の平方根の整数の場合が候補となる\n",
        "\n",
        "  # 奇数のリストを作成\n",
        "  data = [i + 1 for i in range(2, n, 2)]\n",
        "  while limit > data[0]: # 奇数のリストより上限値が大きい限り繰り返す\n",
        "    print(f'\\n今の奇数は:{data[0]}\\n')\n",
        "    prime.append(data[0]) # 奇数リストに加えていく\n",
        "    # その時の奇数が割り切れないならjとして、dataに格納する\n",
        "    # ループが回るごとにリストは更新される\n",
        "    data = [j for j in data if j % data[0] != 0]\n",
        "    print(f'割り切れない奇数:{data}')\n",
        "  return prime + data\n",
        "\n",
        "\n",
        "print(get_prime(200))\n",
        "    \n"
      ],
      "execution_count": 11,
      "outputs": [
        {
          "output_type": "stream",
          "text": [
            "\n",
            "今の奇数は:3\n",
            "\n",
            "割り切れない奇数:[5, 7, 11, 13, 17, 19, 23, 25, 29, 31, 35, 37, 41, 43, 47, 49, 53, 55, 59, 61, 65, 67, 71, 73, 77, 79, 83, 85, 89, 91, 95, 97, 101, 103, 107, 109, 113, 115, 119, 121, 125, 127, 131, 133, 137, 139, 143, 145, 149, 151, 155, 157, 161, 163, 167, 169, 173, 175, 179, 181, 185, 187, 191, 193, 197, 199]\n",
            "\n",
            "今の奇数は:5\n",
            "\n",
            "割り切れない奇数:[7, 11, 13, 17, 19, 23, 29, 31, 37, 41, 43, 47, 49, 53, 59, 61, 67, 71, 73, 77, 79, 83, 89, 91, 97, 101, 103, 107, 109, 113, 119, 121, 127, 131, 133, 137, 139, 143, 149, 151, 157, 161, 163, 167, 169, 173, 179, 181, 187, 191, 193, 197, 199]\n",
            "\n",
            "今の奇数は:7\n",
            "\n",
            "割り切れない奇数:[11, 13, 17, 19, 23, 29, 31, 37, 41, 43, 47, 53, 59, 61, 67, 71, 73, 79, 83, 89, 97, 101, 103, 107, 109, 113, 121, 127, 131, 137, 139, 143, 149, 151, 157, 163, 167, 169, 173, 179, 181, 187, 191, 193, 197, 199]\n",
            "\n",
            "今の奇数は:11\n",
            "\n",
            "割り切れない奇数:[13, 17, 19, 23, 29, 31, 37, 41, 43, 47, 53, 59, 61, 67, 71, 73, 79, 83, 89, 97, 101, 103, 107, 109, 113, 127, 131, 137, 139, 149, 151, 157, 163, 167, 169, 173, 179, 181, 191, 193, 197, 199]\n",
            "\n",
            "今の奇数は:13\n",
            "\n",
            "割り切れない奇数:[17, 19, 23, 29, 31, 37, 41, 43, 47, 53, 59, 61, 67, 71, 73, 79, 83, 89, 97, 101, 103, 107, 109, 113, 127, 131, 137, 139, 149, 151, 157, 163, 167, 173, 179, 181, 191, 193, 197, 199]\n",
            "[2, 3, 5, 7, 11, 13, 17, 19, 23, 29, 31, 37, 41, 43, 47, 53, 59, 61, 67, 71, 73, 79, 83, 89, 97, 101, 103, 107, 109, 113, 127, 131, 137, 139, 149, 151, 157, 163, 167, 173, 179, 181, 191, 193, 197, 199]\n"
          ],
          "name": "stdout"
        }
      ]
    },
    {
      "cell_type": "code",
      "metadata": {
        "id": "6oTOih1w6pTt"
      },
      "source": [
        ""
      ],
      "execution_count": null,
      "outputs": []
    }
  ]
}