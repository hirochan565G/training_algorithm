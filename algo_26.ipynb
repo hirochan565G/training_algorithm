{
  "nbformat": 4,
  "nbformat_minor": 0,
  "metadata": {
    "colab": {
      "name": "algo_26.ipynb",
      "provenance": [],
      "collapsed_sections": [],
      "mount_file_id": "1U-E3tEHJWzC4xhNYDFWnz13wliRalQM7",
      "authorship_tag": "ABX9TyMtBVU4/8bk0B6+YetWpUfd",
      "include_colab_link": true
    },
    "kernelspec": {
      "name": "python3",
      "display_name": "Python 3"
    }
  },
  "cells": [
    {
      "cell_type": "markdown",
      "metadata": {
        "id": "view-in-github",
        "colab_type": "text"
      },
      "source": [
        "<a href=\"https://colab.research.google.com/github/hirochan565G/training_algorithm/blob/main/algo_26.ipynb\" target=\"_parent\"><img src=\"https://colab.research.google.com/assets/colab-badge.svg\" alt=\"Open In Colab\"/></a>"
      ]
    },
    {
      "cell_type": "code",
      "metadata": {
        "colab": {
          "base_uri": "https://localhost:8080/"
        },
        "id": "UmWzZVf21Q2F",
        "outputId": "4ad5ac89-2192-4eec-a50e-b44f13fc49d0"
      },
      "source": [
        "# フィボナッチ数列\n",
        "\n",
        "\n",
        "def fibonacci(n):\n",
        "  if(n==1) or (n==2):\n",
        "    # 初項と第2項は１\n",
        "    return 1\n",
        "  # 前２項を足してフィボナッチ数列とする\n",
        "  # 関数の中で自身の関数を呼ぶことを再帰という\n",
        "  # 引数はもとの関数内で使われる値より小さな値でなければならない\n",
        "  return fibonacci(n -2) + fibonacci(n -1)\n",
        "\n",
        "\n",
        "print(fibonacci(6)) # 第６項を求める"
      ],
      "execution_count": null,
      "outputs": [
        {
          "output_type": "stream",
          "text": [
            "8\n"
          ],
          "name": "stdout"
        }
      ]
    },
    {
      "cell_type": "code",
      "metadata": {
        "colab": {
          "base_uri": "https://localhost:8080/"
        },
        "id": "Kww-nQ687sU6",
        "outputId": "1ce350de-a89d-443d-c88a-0d62300a31b0"
      },
      "source": [
        "# フィボナッチ数列\n",
        "\n",
        "# 終了時の値を入れる\n",
        "memo = {1: 1, 2: 1} # {第１項:1, 第２項:1}\n",
        "\n",
        "def fibonacci(n):\n",
        "  print(f'今は第{n}項')\n",
        "  if n in memo:\n",
        "    # memo辞書にnの値が含まれている場合はmemo[n番目]を返す\n",
        "    return memo[n] # dictionary[key]\n",
        "\n",
        "  # memo辞書に登録がない場合は計算して辞書に登録する\n",
        "  memo[n] = fibonacci(n -2) + fibonacci(n-1) # 辞書に追加\n",
        "  # 前２項を足してフィボナッチ数列とする\n",
        "  # 関数の中で自身の関数を呼ぶことを再帰という\n",
        "  # 引数はもとの関数内で使われる値より小さな値でなければならない\n",
        "  return memo[n]\n",
        "\n",
        "print(fibonacci(60))"
      ],
      "execution_count": 5,
      "outputs": [
        {
          "output_type": "stream",
          "text": [
            "今は第60項\n",
            "今は第58項\n",
            "今は第56項\n",
            "今は第54項\n",
            "今は第52項\n",
            "今は第50項\n",
            "今は第48項\n",
            "今は第46項\n",
            "今は第44項\n",
            "今は第42項\n",
            "今は第40項\n",
            "今は第38項\n",
            "今は第36項\n",
            "今は第34項\n",
            "今は第32項\n",
            "今は第30項\n",
            "今は第28項\n",
            "今は第26項\n",
            "今は第24項\n",
            "今は第22項\n",
            "今は第20項\n",
            "今は第18項\n",
            "今は第16項\n",
            "今は第14項\n",
            "今は第12項\n",
            "今は第10項\n",
            "今は第8項\n",
            "今は第6項\n",
            "今は第4項\n",
            "今は第2項\n",
            "今は第3項\n",
            "今は第1項\n",
            "今は第2項\n",
            "今は第5項\n",
            "今は第3項\n",
            "今は第4項\n",
            "今は第7項\n",
            "今は第5項\n",
            "今は第6項\n",
            "今は第9項\n",
            "今は第7項\n",
            "今は第8項\n",
            "今は第11項\n",
            "今は第9項\n",
            "今は第10項\n",
            "今は第13項\n",
            "今は第11項\n",
            "今は第12項\n",
            "今は第15項\n",
            "今は第13項\n",
            "今は第14項\n",
            "今は第17項\n",
            "今は第15項\n",
            "今は第16項\n",
            "今は第19項\n",
            "今は第17項\n",
            "今は第18項\n",
            "今は第21項\n",
            "今は第19項\n",
            "今は第20項\n",
            "今は第23項\n",
            "今は第21項\n",
            "今は第22項\n",
            "今は第25項\n",
            "今は第23項\n",
            "今は第24項\n",
            "今は第27項\n",
            "今は第25項\n",
            "今は第26項\n",
            "今は第29項\n",
            "今は第27項\n",
            "今は第28項\n",
            "今は第31項\n",
            "今は第29項\n",
            "今は第30項\n",
            "今は第33項\n",
            "今は第31項\n",
            "今は第32項\n",
            "今は第35項\n",
            "今は第33項\n",
            "今は第34項\n",
            "今は第37項\n",
            "今は第35項\n",
            "今は第36項\n",
            "今は第39項\n",
            "今は第37項\n",
            "今は第38項\n",
            "今は第41項\n",
            "今は第39項\n",
            "今は第40項\n",
            "今は第43項\n",
            "今は第41項\n",
            "今は第42項\n",
            "今は第45項\n",
            "今は第43項\n",
            "今は第44項\n",
            "今は第47項\n",
            "今は第45項\n",
            "今は第46項\n",
            "今は第49項\n",
            "今は第47項\n",
            "今は第48項\n",
            "今は第51項\n",
            "今は第49項\n",
            "今は第50項\n",
            "今は第53項\n",
            "今は第51項\n",
            "今は第52項\n",
            "今は第55項\n",
            "今は第53項\n",
            "今は第54項\n",
            "今は第57項\n",
            "今は第55項\n",
            "今は第56項\n",
            "今は第59項\n",
            "今は第57項\n",
            "今は第58項\n",
            "1548008755920\n"
          ],
          "name": "stdout"
        }
      ]
    },
    {
      "cell_type": "code",
      "metadata": {
        "colab": {
          "base_uri": "https://localhost:8080/"
        },
        "id": "OnfGmq5S-hfi",
        "outputId": "d3f26bb9-09b3-44ab-dcde-fc9e3891ada2"
      },
      "source": [
        "def fibonacci_list(n):\n",
        "\n",
        "  fib = [1, 1]\n",
        "  for i in range(2, n):\n",
        "    fib.append(fib[i -2] + fib[i -1])\n",
        "  return fib[n-1] # nからカウントダウンしていくように初項まで計算する\n",
        "\n",
        "print(fibonacci_list(60))"
      ],
      "execution_count": 8,
      "outputs": [
        {
          "output_type": "stream",
          "text": [
            "1548008755920\n"
          ],
          "name": "stdout"
        }
      ]
    },
    {
      "cell_type": "code",
      "metadata": {
        "id": "By7BEPtC__zd"
      },
      "source": [
        ""
      ],
      "execution_count": null,
      "outputs": []
    }
  ]
}