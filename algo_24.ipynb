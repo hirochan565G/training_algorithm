{
  "nbformat": 4,
  "nbformat_minor": 0,
  "metadata": {
    "colab": {
      "name": "algo_24.ipynb",
      "provenance": [],
      "collapsed_sections": [],
      "mount_file_id": "1KO06t4oas9Wh_ATeaXn0OSndGJl6DHFq",
      "authorship_tag": "ABX9TyPVfNR90AJxsH4+KYWlyOJe",
      "include_colab_link": true
    },
    "kernelspec": {
      "name": "python3",
      "display_name": "Python 3"
    }
  },
  "cells": [
    {
      "cell_type": "markdown",
      "metadata": {
        "id": "view-in-github",
        "colab_type": "text"
      },
      "source": [
        "<a href=\"https://colab.research.google.com/github/hirochan565G/training_algorithm/blob/main/algo_24.ipynb\" target=\"_parent\"><img src=\"https://colab.research.google.com/assets/colab-badge.svg\" alt=\"Open In Colab\"/></a>"
      ]
    },
    {
      "cell_type": "code",
      "metadata": {
        "colab": {
          "base_uri": "https://localhost:8080/"
        },
        "id": "-V2Lxk8rWgDv",
        "outputId": "1e1c8514-848e-4bba-9211-3b24742df450"
      },
      "source": [
        "# 10進数と2進数の変換\n",
        "n = 18\n",
        "\n",
        "def convert(n, base):\n",
        "  # baseは基数\n",
        "  result = ''  # これがoutput\n",
        "\n",
        "  while n > 0:\n",
        "    # nが0より小さくなるまで続ける\n",
        "    result = str(n % base) + result # 余りは左側に追加していく\n",
        "    # 2で割っていく\n",
        "    n //= base\n",
        "\n",
        "  return result\n",
        "\n",
        "print(convert(n, 2))\n",
        "print(convert(n, 3))\n",
        "print(convert(n, 8))"
      ],
      "execution_count": 10,
      "outputs": [
        {
          "output_type": "stream",
          "text": [
            "10010\n",
            "200\n",
            "22\n"
          ],
          "name": "stdout"
        }
      ]
    },
    {
      "cell_type": "code",
      "metadata": {
        "colab": {
          "base_uri": "https://localhost:8080/"
        },
        "id": "iC77RpTyZMR5",
        "outputId": "c7cd7130-33ad-4257-fa41-17f2c7660732"
      },
      "source": [
        "n = '10010' # string\n",
        "\n",
        "result = 0 # int\n",
        "for i in range(len(n)):\n",
        "  # 5文字だから5回のループ\n",
        "  result += int(n[i]) * (2 ** (len(n) - i -1)) # 一周目はi=0, n[i=0]='1', len(n)=5\n",
        "  print(f'i:{i}')\n",
        "  print(n[i])\n",
        "  print(len(n))\n",
        "  print(f'途中経過:{result}')\n",
        "  print('=====')\n",
        "\n",
        "print('結果:{}'.format(result))"
      ],
      "execution_count": 19,
      "outputs": [
        {
          "output_type": "stream",
          "text": [
            "i:0\n",
            "1\n",
            "5\n",
            "途中経過:16\n",
            "=====\n",
            "i:1\n",
            "0\n",
            "5\n",
            "途中経過:16\n",
            "=====\n",
            "i:2\n",
            "0\n",
            "5\n",
            "途中経過:16\n",
            "=====\n",
            "i:3\n",
            "1\n",
            "5\n",
            "途中経過:18\n",
            "=====\n",
            "i:4\n",
            "0\n",
            "5\n",
            "途中経過:18\n",
            "=====\n",
            "結果:18\n"
          ],
          "name": "stdout"
        }
      ]
    },
    {
      "cell_type": "code",
      "metadata": {
        "colab": {
          "base_uri": "https://localhost:8080/"
        },
        "id": "XaN1V8_jckka",
        "outputId": "ca59f23f-8a64-4c27-924f-36a42df0c991"
      },
      "source": [
        "a = 18\n",
        "print(bin(a))"
      ],
      "execution_count": 20,
      "outputs": [
        {
          "output_type": "stream",
          "text": [
            "0b10010\n"
          ],
          "name": "stdout"
        }
      ]
    },
    {
      "cell_type": "code",
      "metadata": {
        "colab": {
          "base_uri": "https://localhost:8080/"
        },
        "id": "ZoH3J1i8gX0e",
        "outputId": "0dd938cb-a63c-4399-96e2-1a0bbc318f84"
      },
      "source": [
        "b = '10010'\n",
        "print(int(b, 2)) # 2進数を10進数にキャスト"
      ],
      "execution_count": 21,
      "outputs": [
        {
          "output_type": "stream",
          "text": [
            "18\n"
          ],
          "name": "stdout"
        }
      ]
    },
    {
      "cell_type": "code",
      "metadata": {
        "colab": {
          "base_uri": "https://localhost:8080/"
        },
        "id": "FO0F0EMogwIy",
        "outputId": "bff570d2-1f9a-435e-c4b1-db1c4a7f99fc"
      },
      "source": [
        "a = 0b10010 # 0bをつける整数になる\n",
        "print(a)"
      ],
      "execution_count": 22,
      "outputs": [
        {
          "output_type": "stream",
          "text": [
            "18\n"
          ],
          "name": "stdout"
        }
      ]
    },
    {
      "cell_type": "code",
      "metadata": {
        "colab": {
          "base_uri": "https://localhost:8080/"
        },
        "id": "lqiEgdZkhCe_",
        "outputId": "4fa1316b-0788-4501-8ab5-fc8be976c79b"
      },
      "source": [
        "c = 0b1010\n",
        "d = 0b1100\n",
        "print(f'c:{c}')\n",
        "print(f'd:{d}')\n",
        "print(type(c))\n",
        "\n",
        "# ビット演算\n",
        "print(bin(~c)) # NOT\n",
        "print(bin(c & d)) # AND\n",
        "print(bin(c | d)) # OR\n",
        "print(bin(c ^ d)) # XOR\n",
        "print(bin(c << 1)) # shift left\n",
        "print(bin(d>>2)) # shift right"
      ],
      "execution_count": 39,
      "outputs": [
        {
          "output_type": "stream",
          "text": [
            "c:10\n",
            "d:12\n",
            "<class 'int'>\n",
            "-0b1011\n",
            "0b1000\n",
            "0b1110\n",
            "0b110\n",
            "0b10100\n",
            "0b11\n"
          ],
          "name": "stdout"
        }
      ]
    },
    {
      "cell_type": "code",
      "metadata": {
        "colab": {
          "base_uri": "https://localhost:8080/"
        },
        "id": "JFTEzR6BiER3",
        "outputId": "9e148a83-5557-4d6d-a3f2-ebc4e97e725f"
      },
      "source": [
        "a = 0b10010\n",
        "print(bin(~a))"
      ],
      "execution_count": 34,
      "outputs": [
        {
          "output_type": "stream",
          "text": [
            "-0b10011\n"
          ],
          "name": "stdout"
        }
      ]
    },
    {
      "cell_type": "code",
      "metadata": {
        "id": "IedQeNEdlRd9"
      },
      "source": [
        ""
      ],
      "execution_count": null,
      "outputs": []
    }
  ]
}